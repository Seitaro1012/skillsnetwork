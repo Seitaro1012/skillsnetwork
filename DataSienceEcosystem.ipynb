{
 "cells": [
  {
   "cell_type": "markdown",
   "id": "50e273ed-c32b-40cd-bc58-78f693f11e3f",
   "metadata": {},
   "source": [
    "# Data Science Tools and Ecosystem"
   ]
  },
  {
   "cell_type": "markdown",
   "id": "90403f81-2243-45be-b3d6-ae3c99f8efb5",
   "metadata": {},
   "source": [
    "In this notebook, Data Science Tools and Ecosystem are summarized."
   ]
  },
  {
   "cell_type": "markdown",
   "id": "c07dea0b-1fcc-4375-89c1-a9ccfd149786",
   "metadata": {},
   "source": [
    "**Objectives:** \n",
    "- Create a Jupyter Notebook\n",
    "- Insert code and markdown cells\n",
    "- Share your notebook through GitHub"
   ]
  },
  {
   "cell_type": "markdown",
   "id": "13d726f1-9c75-4c72-b13a-ea70ec8cfdf2",
   "metadata": {},
   "source": [
    "Some of the popular languages that Data Scientists use are:"
   ]
  },
  {
   "cell_type": "markdown",
   "id": "833f9d42-80b4-49b1-8956-3c78d05a0b84",
   "metadata": {},
   "source": [
    "1. Python\n",
    "2. R\n",
    "3. SQL\n"
   ]
  },
  {
   "cell_type": "markdown",
   "id": "a7dbf9f1-bbac-4263-a110-b054e15f66ee",
   "metadata": {},
   "source": [
    "Some of the commonly used libraries used by Data Scientists include:"
   ]
  },
  {
   "cell_type": "markdown",
   "id": "1eeef7dc-ef55-4d57-96ff-90d589d68ae8",
   "metadata": {
    "tags": []
   },
   "source": [
    "1. Matplotlib\n",
    "2. Pandas\n",
    "3. Scikit-learn\n",
    "4. TensorFlow\n",
    "5. ggplot2\n",
    "6. dplyr\n"
   ]
  },
  {
   "cell_type": "markdown",
   "id": "9455b217-2b8d-4a6c-90a7-f03839bab571",
   "metadata": {},
   "source": [
    "| Data Sience Tools |\n",
    "| ---- |\n",
    "| Jupyter Notebook |\n",
    "| Visual Studio Code |\n",
    "| Rstudio |"
   ]
  },
  {
   "cell_type": "markdown",
   "id": "92fb5581-8251-4ddd-aec4-0646df8a6529",
   "metadata": {},
   "source": [
    "### Below are a few examples of evaluating arithmetic expressions in Python"
   ]
  },
  {
   "cell_type": "code",
   "execution_count": 1,
   "id": "70670769-a573-4df6-8a0f-a91670aed36a",
   "metadata": {
    "tags": []
   },
   "outputs": [
    {
     "data": {
      "text/plain": [
       "17"
      ]
     },
     "execution_count": 1,
     "metadata": {},
     "output_type": "execute_result"
    }
   ],
   "source": [
    "# This a simple arithmetic expression to mutiply then add integers\n",
    "(3 * 4) + 5"
   ]
  },
  {
   "cell_type": "code",
   "execution_count": 2,
   "id": "2a10a948-1fc1-421b-9b65-b3be8a3985a4",
   "metadata": {
    "tags": []
   },
   "outputs": [
    {
     "name": "stdout",
     "output_type": "stream",
     "text": [
      "3.3333333333333335\n"
     ]
    }
   ],
   "source": [
    "# This will convert 200 minutes to hours by diving by 60\n",
    "minutes = 200\n",
    "hours = minutes / 60\n",
    "print(hours)"
   ]
  },
  {
   "cell_type": "markdown",
   "id": "1389cfbd-0676-4a4d-998e-6775d020f510",
   "metadata": {},
   "source": [
    "## Author\n",
    "Seitaro Miyashita"
   ]
  },
  {
   "cell_type": "code",
   "execution_count": null,
   "id": "d7d73640-c6fc-4010-a8cf-05d6c3ab1ed2",
   "metadata": {},
   "outputs": [],
   "source": []
  },
  {
   "cell_type": "code",
   "execution_count": null,
   "id": "e61b214e-1f15-4aa8-b28d-4ba0d9136b82",
   "metadata": {},
   "outputs": [],
   "source": []
  },
  {
   "cell_type": "code",
   "execution_count": null,
   "id": "43a27933-878a-4c77-a65c-a0ed44c4c821",
   "metadata": {},
   "outputs": [],
   "source": []
  }
 ],
 "metadata": {
  "kernelspec": {
   "display_name": "Python",
   "language": "python",
   "name": "conda-env-python-py"
  },
  "language_info": {
   "codemirror_mode": {
    "name": "ipython",
    "version": 3
   },
   "file_extension": ".py",
   "mimetype": "text/x-python",
   "name": "python",
   "nbconvert_exporter": "python",
   "pygments_lexer": "ipython3",
   "version": "3.7.12"
  }
 },
 "nbformat": 4,
 "nbformat_minor": 5
}
